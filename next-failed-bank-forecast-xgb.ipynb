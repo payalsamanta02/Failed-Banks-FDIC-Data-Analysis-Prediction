{
 "cells": [
  {
   "cell_type": "markdown",
   "id": "30e0c84a",
   "metadata": {
    "papermill": {
     "duration": 0.009287,
     "end_time": "2023-11-05T21:45:07.568718",
     "exception": false,
     "start_time": "2023-11-05T21:45:07.559431",
     "status": "completed"
    },
    "tags": []
   },
   "source": [
    "# **Imports**"
   ]
  },
  {
   "cell_type": "markdown",
   "id": "4e366f2d",
   "metadata": {
    "papermill": {
     "duration": 0.008311,
     "end_time": "2023-11-05T21:45:07.585634",
     "exception": false,
     "start_time": "2023-11-05T21:45:07.577323",
     "status": "completed"
    },
    "tags": []
   },
   "source": [
    "In this notebook, I attempt to predict the next bank failure using historic financial ratios for all U.S. banks in the FDIC database. The target labels are binary, with a positive instance indicating that the bank will fail within a given time frame. I have specifically chosen the failure within 180 days to optimize for the fact that the FDIC releases the quarterly bank call report data with a lag of about 60 to 90 days after the end of the quarter. Also, this label seemed to give the best results. I also prioritized precision over recall, as shown in the confusion matrix below for the best model. The hyperparameters were selected via HyperOpt in another private notebook and are used below. Also, the results for different sets of hyperparameters are also recorded below. Financial ratios dataset is of shape (656438, 796) with 796 features and 656438 training examples for the past 90 quarters (see dataset page for more information). The best model achieved the following results on the test set: AUC=0.636, F1=0.413, Precision=0.83. "
   ]
  },
  {
   "cell_type": "code",
   "execution_count": 1,
   "id": "750462f6",
   "metadata": {
    "execution": {
     "iopub.execute_input": "2023-11-05T21:45:07.607431Z",
     "iopub.status.busy": "2023-11-05T21:45:07.606656Z",
     "iopub.status.idle": "2023-11-05T21:45:07.611971Z",
     "shell.execute_reply": "2023-11-05T21:45:07.611080Z"
    },
    "papermill": {
     "duration": 0.018547,
     "end_time": "2023-11-05T21:45:07.613916",
     "exception": false,
     "start_time": "2023-11-05T21:45:07.595369",
     "status": "completed"
    },
    "tags": []
   },
   "outputs": [],
   "source": [
    "# !pip install tensorflow-data-validation"
   ]
  },
  {
   "cell_type": "code",
   "execution_count": 2,
   "id": "faf0859a",
   "metadata": {
    "_cell_guid": "b1076dfc-b9ad-4769-8c92-a6c4dae69d19",
    "_uuid": "8f2839f25d086af736a60e9eeb907d3b93b6e0e5",
    "execution": {
     "iopub.execute_input": "2023-11-05T21:45:07.632607Z",
     "iopub.status.busy": "2023-11-05T21:45:07.631981Z",
     "iopub.status.idle": "2023-11-05T21:45:17.112758Z",
     "shell.execute_reply": "2023-11-05T21:45:17.111555Z"
    },
    "papermill": {
     "duration": 9.492419,
     "end_time": "2023-11-05T21:45:17.114904",
     "exception": false,
     "start_time": "2023-11-05T21:45:07.622485",
     "status": "completed"
    },
    "tags": []
   },
   "outputs": [
    {
     "name": "stderr",
     "output_type": "stream",
     "text": [
      "/opt/conda/lib/python3.10/site-packages/scipy/__init__.py:146: UserWarning: A NumPy version >=1.16.5 and <1.23.0 is required for this version of SciPy (detected version 1.23.5\n",
      "  warnings.warn(f\"A NumPy version >={np_minversion} and <{np_maxversion}\"\n"
     ]
    },
    {
     "name": "stdout",
     "output_type": "stream",
     "text": [
      "/kaggle/input/failed-banks-fdic-data/Failed_Bank_Dataset_2.csv\n",
      "/kaggle/input/all-us-banks-financial-quarterly-ratios-2001-2023/total_bank_data.csv\n",
      "/kaggle/input/all-us-banks-financial-quarterly-ratios-2001-2023/metric_definitions.csv\n"
     ]
    }
   ],
   "source": [
    "\n",
    "import numpy as np # linear algebra\n",
    "import pandas as pd # data processing, CSV file I/O (e.g. pd.read_csv)\n",
    "import xgboost as xg\n",
    "from sklearn.metrics import f1_score\n",
    "from sklearn.metrics import roc_auc_score\n",
    "# Input data files are available in the read-only \"../input/\" directory\n",
    "# For example, running this (by clicking run or pressing Shift+Enter) will list all files under the input directory\n",
    "import tensorflow as tf\n",
    "# import tensorflow_data_validation as tfdv\n",
    "from sklearn.model_selection import train_test_split\n",
    "\n",
    "\n",
    "import os\n",
    "for dirname, _, filenames in os.walk('/kaggle/input'):\n",
    "    for filename in filenames:\n",
    "        print(os.path.join(dirname, filename))\n",
    "\n",
    "# You can write up to 20GB to the current directory (/kaggle/working/) that gets preserved as output when you create a version using \"Save & Run All\" \n",
    "# You can also write temporary files to /kaggle/temp/, but they won't be saved outside of the current session"
   ]
  },
  {
   "cell_type": "code",
   "execution_count": 3,
   "id": "e7bec13e",
   "metadata": {
    "execution": {
     "iopub.execute_input": "2023-11-05T21:45:17.134029Z",
     "iopub.status.busy": "2023-11-05T21:45:17.133465Z",
     "iopub.status.idle": "2023-11-05T21:47:18.135644Z",
     "shell.execute_reply": "2023-11-05T21:47:18.134842Z"
    },
    "papermill": {
     "duration": 121.014347,
     "end_time": "2023-11-05T21:47:18.138233",
     "exception": false,
     "start_time": "2023-11-05T21:45:17.123886",
     "status": "completed"
    },
    "tags": []
   },
   "outputs": [],
   "source": [
    "df = pd.read_csv('/kaggle/input/all-us-banks-financial-quarterly-ratios-2001-2023/total_bank_data.csv')\n"
   ]
  },
  {
   "cell_type": "code",
   "execution_count": 4,
   "id": "b6c7fe7d",
   "metadata": {
    "execution": {
     "iopub.execute_input": "2023-11-05T21:47:18.157269Z",
     "iopub.status.busy": "2023-11-05T21:47:18.156934Z",
     "iopub.status.idle": "2023-11-05T21:47:18.170578Z",
     "shell.execute_reply": "2023-11-05T21:47:18.169727Z"
    },
    "papermill": {
     "duration": 0.025246,
     "end_time": "2023-11-05T21:47:18.172579",
     "exception": false,
     "start_time": "2023-11-05T21:47:18.147333",
     "status": "completed"
    },
    "tags": []
   },
   "outputs": [],
   "source": [
    "failed_df = pd.read_csv('/kaggle/input/failed-banks-fdic-data/Failed_Bank_Dataset_2.csv')\n"
   ]
  },
  {
   "cell_type": "markdown",
   "id": "a83ad1b7",
   "metadata": {
    "papermill": {
     "duration": 0.008846,
     "end_time": "2023-11-05T21:47:18.190405",
     "exception": false,
     "start_time": "2023-11-05T21:47:18.181559",
     "status": "completed"
    },
    "tags": []
   },
   "source": [
    "# **Data Visualization and Cleaning**"
   ]
  },
  {
   "cell_type": "code",
   "execution_count": 5,
   "id": "0512a243",
   "metadata": {
    "execution": {
     "iopub.execute_input": "2023-11-05T21:47:18.209193Z",
     "iopub.status.busy": "2023-11-05T21:47:18.208868Z",
     "iopub.status.idle": "2023-11-05T21:47:18.215650Z",
     "shell.execute_reply": "2023-11-05T21:47:18.214801Z"
    },
    "papermill": {
     "duration": 0.018416,
     "end_time": "2023-11-05T21:47:18.217545",
     "exception": false,
     "start_time": "2023-11-05T21:47:18.199129",
     "status": "completed"
    },
    "tags": []
   },
   "outputs": [
    {
     "data": {
      "text/plain": [
       "(656438, 796)"
      ]
     },
     "execution_count": 5,
     "metadata": {},
     "output_type": "execute_result"
    }
   ],
   "source": [
    "df.shape"
   ]
  },
  {
   "cell_type": "code",
   "execution_count": 6,
   "id": "09f8905c",
   "metadata": {
    "execution": {
     "iopub.execute_input": "2023-11-05T21:47:18.235949Z",
     "iopub.status.busy": "2023-11-05T21:47:18.235627Z",
     "iopub.status.idle": "2023-11-05T21:47:18.239344Z",
     "shell.execute_reply": "2023-11-05T21:47:18.238474Z"
    },
    "papermill": {
     "duration": 0.01505,
     "end_time": "2023-11-05T21:47:18.241296",
     "exception": false,
     "start_time": "2023-11-05T21:47:18.226246",
     "status": "completed"
    },
    "tags": []
   },
   "outputs": [],
   "source": [
    "# data_stats = tfdv.generate_statistics_from_dataframe(df)\n",
    "# tfdv.visualize_statistics(data_stats)"
   ]
  },
  {
   "cell_type": "code",
   "execution_count": null,
   "id": "fad84304",
   "metadata": {
    "papermill": {
     "duration": 0.008982,
     "end_time": "2023-11-05T21:47:18.258910",
     "exception": false,
     "start_time": "2023-11-05T21:47:18.249928",
     "status": "completed"
    },
    "tags": []
   },
   "outputs": [],
   "source": []
  },
  {
   "cell_type": "code",
   "execution_count": 7,
   "id": "258207dd",
   "metadata": {
    "execution": {
     "iopub.execute_input": "2023-11-05T21:47:18.277848Z",
     "iopub.status.busy": "2023-11-05T21:47:18.277286Z",
     "iopub.status.idle": "2023-11-05T21:47:18.281388Z",
     "shell.execute_reply": "2023-11-05T21:47:18.280495Z"
    },
    "papermill": {
     "duration": 0.015728,
     "end_time": "2023-11-05T21:47:18.283315",
     "exception": false,
     "start_time": "2023-11-05T21:47:18.267587",
     "status": "completed"
    },
    "tags": []
   },
   "outputs": [],
   "source": [
    "#It appears that the data has lots of zeros so to simplify the data set we will remove all columns with 90 or more zeros \n",
    "# zero_percentage = (df == 0).mean()\n",
    "# selected_columns = zero_percentage[zero_percentage < 0.9.index\n",
    "# df_clean = df[selected_columns]\n"
   ]
  },
  {
   "cell_type": "code",
   "execution_count": 8,
   "id": "1c059c64",
   "metadata": {
    "execution": {
     "iopub.execute_input": "2023-11-05T21:47:18.302670Z",
     "iopub.status.busy": "2023-11-05T21:47:18.302386Z",
     "iopub.status.idle": "2023-11-05T21:47:19.784384Z",
     "shell.execute_reply": "2023-11-05T21:47:19.783309Z"
    },
    "papermill": {
     "duration": 1.49435,
     "end_time": "2023-11-05T21:47:19.786821",
     "exception": false,
     "start_time": "2023-11-05T21:47:18.292471",
     "status": "completed"
    },
    "tags": []
   },
   "outputs": [],
   "source": [
    "#joining fail date from failed banks list df to our df on cert column: \n",
    "merged_df = pd.merge(df, failed_df[['Closing_Date','Cert']], left_on='CERT', right_on='Cert', how='left')\n"
   ]
  },
  {
   "cell_type": "code",
   "execution_count": 9,
   "id": "509c18d5",
   "metadata": {
    "execution": {
     "iopub.execute_input": "2023-11-05T21:47:19.806235Z",
     "iopub.status.busy": "2023-11-05T21:47:19.805918Z",
     "iopub.status.idle": "2023-11-05T21:47:19.824493Z",
     "shell.execute_reply": "2023-11-05T21:47:19.823620Z"
    },
    "papermill": {
     "duration": 0.030492,
     "end_time": "2023-11-05T21:47:19.826362",
     "exception": false,
     "start_time": "2023-11-05T21:47:19.795870",
     "status": "completed"
    },
    "tags": []
   },
   "outputs": [],
   "source": [
    "del df \n",
    "del failed_df"
   ]
  },
  {
   "cell_type": "code",
   "execution_count": 10,
   "id": "eb5c31c3",
   "metadata": {
    "execution": {
     "iopub.execute_input": "2023-11-05T21:47:19.844990Z",
     "iopub.status.busy": "2023-11-05T21:47:19.844696Z",
     "iopub.status.idle": "2023-11-05T21:47:25.765215Z",
     "shell.execute_reply": "2023-11-05T21:47:25.764002Z"
    },
    "papermill": {
     "duration": 5.932683,
     "end_time": "2023-11-05T21:47:25.767841",
     "exception": false,
     "start_time": "2023-11-05T21:47:19.835158",
     "status": "completed"
    },
    "tags": []
   },
   "outputs": [],
   "source": [
    "merged_df.sort_values(by='REPDTE', inplace=True)\n",
    "merged_df = merged_df.reset_index(drop=True)\n",
    "#converting dates to correct format\n",
    "merged_df['REPDTE'] = pd.to_datetime(merged_df['REPDTE'], format='%Y%m%d')\n",
    "merged_df['Closing_Date'] = pd.to_datetime(merged_df['Closing_Date'])\n",
    "#making label column\n"
   ]
  },
  {
   "cell_type": "markdown",
   "id": "b7b05dc8",
   "metadata": {
    "papermill": {
     "duration": 0.008797,
     "end_time": "2023-11-05T21:47:25.786227",
     "exception": false,
     "start_time": "2023-11-05T21:47:25.777430",
     "status": "completed"
    },
    "tags": []
   },
   "source": [
    "# **Making Labels and Splitting**"
   ]
  },
  {
   "cell_type": "code",
   "execution_count": 11,
   "id": "594ef237",
   "metadata": {
    "execution": {
     "iopub.execute_input": "2023-11-05T21:47:25.805747Z",
     "iopub.status.busy": "2023-11-05T21:47:25.804927Z",
     "iopub.status.idle": "2023-11-05T21:47:25.910206Z",
     "shell.execute_reply": "2023-11-05T21:47:25.909398Z"
    },
    "papermill": {
     "duration": 0.117489,
     "end_time": "2023-11-05T21:47:25.912560",
     "exception": false,
     "start_time": "2023-11-05T21:47:25.795071",
     "status": "completed"
    },
    "tags": []
   },
   "outputs": [],
   "source": [
    "# Create a new column with binary values \n",
    "merged_df['FailWithin90Days'] = ((merged_df['Closing_Date'] - merged_df['REPDTE']).dt.days >= 0) & ((merged_df['Closing_Date'] - merged_df['REPDTE']).dt.days <= 90)\n",
    "merged_df['FailWithin180Days'] = ((merged_df['Closing_Date'] - merged_df['REPDTE']).dt.days >= 0) & ((merged_df['Closing_Date'] - merged_df['REPDTE']).dt.days <= 180)                                              \n",
    "merged_df['FailWithin365Days'] = ((merged_df['Closing_Date'] - merged_df['REPDTE']).dt.days >= 0) & ((merged_df['Closing_Date'] - merged_df['REPDTE']).dt.days <= 365)                                              \n",
    "merged_df['FailWithin730Days'] = ((merged_df['Closing_Date'] - merged_df['REPDTE']).dt.days >= 0) & ((merged_df['Closing_Date'] - merged_df['REPDTE']).dt.days <= 730)                                              \n",
    "            "
   ]
  },
  {
   "cell_type": "code",
   "execution_count": 12,
   "id": "5b1f502b",
   "metadata": {
    "execution": {
     "iopub.execute_input": "2023-11-05T21:47:25.931756Z",
     "iopub.status.busy": "2023-11-05T21:47:25.931422Z",
     "iopub.status.idle": "2023-11-05T21:47:25.939556Z",
     "shell.execute_reply": "2023-11-05T21:47:25.938668Z"
    },
    "papermill": {
     "duration": 0.020134,
     "end_time": "2023-11-05T21:47:25.941763",
     "exception": false,
     "start_time": "2023-11-05T21:47:25.921629",
     "status": "completed"
    },
    "tags": []
   },
   "outputs": [
    {
     "name": "stdout",
     "output_type": "stream",
     "text": [
      "0   2001-03-31\n",
      "1   2001-03-31\n",
      "2   2001-03-31\n",
      "3   2001-03-31\n",
      "4   2001-03-31\n",
      "Name: REPDTE, dtype: datetime64[ns]\n",
      "656433   2023-06-30\n",
      "656434   2023-06-30\n",
      "656435   2023-06-30\n",
      "656436   2023-06-30\n",
      "656437   2023-06-30\n",
      "Name: REPDTE, dtype: datetime64[ns]\n",
      "2018-09-30 00:00:00\n",
      "2014-09-30 00:00:00\n",
      "2023-06-30 00:00:00\n"
     ]
    }
   ],
   "source": [
    "#since the rows are ordered by date we can split the df into train,validation,test sets \n",
    "print(merged_df['REPDTE'].head())\n",
    "print(merged_df['REPDTE'].tail())\n",
    "#finding data set split dates for a rough 70:15:15 split\n",
    "\n",
    "lower_date = pd.to_datetime(merged_df['REPDTE'][int(merged_df.shape[0]*0.70)])\n",
    "top_date = pd.to_datetime(merged_df['REPDTE'][int(merged_df.shape[0]*0.85)])\n",
    "last_date = pd.to_datetime(merged_df['REPDTE'].iloc[-1])\n",
    "print(top_date)\n",
    "print(lower_date)\n",
    "print(last_date)"
   ]
  },
  {
   "cell_type": "code",
   "execution_count": 13,
   "id": "991ea81b",
   "metadata": {
    "execution": {
     "iopub.execute_input": "2023-11-05T21:47:25.961017Z",
     "iopub.status.busy": "2023-11-05T21:47:25.960285Z",
     "iopub.status.idle": "2023-11-05T21:47:27.177818Z",
     "shell.execute_reply": "2023-11-05T21:47:27.176809Z"
    },
    "papermill": {
     "duration": 1.229457,
     "end_time": "2023-11-05T21:47:27.180110",
     "exception": false,
     "start_time": "2023-11-05T21:47:25.950653",
     "status": "completed"
    },
    "tags": []
   },
   "outputs": [],
   "source": [
    "#dropping null column and unneeded columns \n",
    "merged_df.drop(['CBLRINDQ','Closing_Date','REPYEAR','STNAME','Cert'], axis=1, inplace=True)"
   ]
  },
  {
   "cell_type": "code",
   "execution_count": 14,
   "id": "ee3cda5e",
   "metadata": {
    "execution": {
     "iopub.execute_input": "2023-11-05T21:47:27.199406Z",
     "iopub.status.busy": "2023-11-05T21:47:27.199116Z",
     "iopub.status.idle": "2023-11-05T21:47:29.542730Z",
     "shell.execute_reply": "2023-11-05T21:47:29.541750Z"
    },
    "papermill": {
     "duration": 2.355864,
     "end_time": "2023-11-05T21:47:29.545142",
     "exception": false,
     "start_time": "2023-11-05T21:47:27.189278",
     "status": "completed"
    },
    "tags": []
   },
   "outputs": [
    {
     "name": "stderr",
     "output_type": "stream",
     "text": [
      "/tmp/ipykernel_26/526328061.py:8: SettingWithCopyWarning: \n",
      "A value is trying to be set on a copy of a slice from a DataFrame\n",
      "\n",
      "See the caveats in the documentation: https://pandas.pydata.org/pandas-docs/stable/user_guide/indexing.html#returning-a-view-versus-a-copy\n",
      "  train_data.drop(['REPDTE','NAME','CERT'], axis=1, inplace=True)\n",
      "/tmp/ipykernel_26/526328061.py:9: SettingWithCopyWarning: \n",
      "A value is trying to be set on a copy of a slice from a DataFrame\n",
      "\n",
      "See the caveats in the documentation: https://pandas.pydata.org/pandas-docs/stable/user_guide/indexing.html#returning-a-view-versus-a-copy\n",
      "  validation_data.drop(['REPDTE','NAME','CERT'], axis=1, inplace=True)\n",
      "/tmp/ipykernel_26/526328061.py:10: SettingWithCopyWarning: \n",
      "A value is trying to be set on a copy of a slice from a DataFrame\n",
      "\n",
      "See the caveats in the documentation: https://pandas.pydata.org/pandas-docs/stable/user_guide/indexing.html#returning-a-view-versus-a-copy\n",
      "  test_data.drop(['REPDTE','NAME','CERT'], axis=1, inplace=True)\n"
     ]
    }
   ],
   "source": [
    "# Split the DataFrame based on date criteria\n",
    "train_data = merged_df[merged_df['REPDTE'] < lower_date]\n",
    "validation_data = merged_df[(merged_df['REPDTE'] >= lower_date) & (merged_df['REPDTE'] < top_date)]\n",
    "test_data = merged_df[(merged_df['REPDTE'] >= top_date) & (merged_df['REPDTE'] < last_date)]\n",
    "last_data = merged_df[merged_df['REPDTE'] == last_date] \n",
    "\n",
    "#droping date column\n",
    "train_data.drop(['REPDTE','NAME','CERT'], axis=1, inplace=True)\n",
    "validation_data.drop(['REPDTE','NAME','CERT'], axis=1, inplace=True)\n",
    "test_data.drop(['REPDTE','NAME','CERT'], axis=1, inplace=True)\n",
    "\n",
    "\n",
    "\n",
    "last_data = last_data.reset_index(drop=True)\n",
    "\n",
    "last_data_ids = last_data[['NAME','CERT']].copy()\n",
    "last_data.drop(['REPDTE','NAME','CERT'], axis=1, inplace=True)\n",
    "\n"
   ]
  },
  {
   "cell_type": "code",
   "execution_count": 15,
   "id": "0d331b79",
   "metadata": {
    "execution": {
     "iopub.execute_input": "2023-11-05T21:47:29.564375Z",
     "iopub.status.busy": "2023-11-05T21:47:29.564077Z",
     "iopub.status.idle": "2023-11-05T21:47:29.597976Z",
     "shell.execute_reply": "2023-11-05T21:47:29.597156Z"
    },
    "papermill": {
     "duration": 0.045555,
     "end_time": "2023-11-05T21:47:29.599789",
     "exception": false,
     "start_time": "2023-11-05T21:47:29.554234",
     "status": "completed"
    },
    "tags": []
   },
   "outputs": [],
   "source": [
    "del merged_df"
   ]
  },
  {
   "cell_type": "code",
   "execution_count": 16,
   "id": "1237bfad",
   "metadata": {
    "execution": {
     "iopub.execute_input": "2023-11-05T21:47:29.618725Z",
     "iopub.status.busy": "2023-11-05T21:47:29.618423Z",
     "iopub.status.idle": "2023-11-05T21:47:29.625936Z",
     "shell.execute_reply": "2023-11-05T21:47:29.624998Z"
    },
    "papermill": {
     "duration": 0.01902,
     "end_time": "2023-11-05T21:47:29.627765",
     "exception": false,
     "start_time": "2023-11-05T21:47:29.608745",
     "status": "completed"
    },
    "tags": []
   },
   "outputs": [],
   "source": [
    "Y1t = train_data['FailWithin90Days']\n",
    "Y2t = train_data['FailWithin180Days']\n",
    "Y3t = train_data['FailWithin365Days']\n",
    "Y4t = train_data['FailWithin730Days']\n",
    "Y1v = validation_data['FailWithin90Days']\n",
    "Y2v = validation_data['FailWithin180Days']\n",
    "Y3v = validation_data['FailWithin365Days']\n",
    "Y4v = validation_data['FailWithin730Days']\n",
    "Y1s = test_data['FailWithin90Days']\n",
    "Y2s = test_data['FailWithin180Days']\n",
    "Y3s = test_data['FailWithin365Days']\n",
    "Y4s = test_data['FailWithin730Days']\n",
    "Y1ld = last_data['FailWithin90Days']\n",
    "Y2ld = last_data['FailWithin180Days']\n",
    "Y3ld = last_data['FailWithin365Days']\n",
    "Y4ld = last_data['FailWithin730Days']"
   ]
  },
  {
   "cell_type": "code",
   "execution_count": 17,
   "id": "5503c638",
   "metadata": {
    "execution": {
     "iopub.execute_input": "2023-11-05T21:47:29.646378Z",
     "iopub.status.busy": "2023-11-05T21:47:29.646106Z",
     "iopub.status.idle": "2023-11-05T21:47:30.720713Z",
     "shell.execute_reply": "2023-11-05T21:47:30.719894Z"
    },
    "papermill": {
     "duration": 1.086815,
     "end_time": "2023-11-05T21:47:30.723267",
     "exception": false,
     "start_time": "2023-11-05T21:47:29.636452",
     "status": "completed"
    },
    "tags": []
   },
   "outputs": [],
   "source": [
    "\n",
    "Y_train = np.column_stack((Y1t, Y2t, Y3t,Y4t))\n",
    "train_data.drop(['FailWithin90Days','FailWithin180Days','FailWithin365Days','FailWithin730Days'], axis=1, inplace=True)\n",
    "Y_val = np.column_stack((Y1v, Y2v, Y3v,Y4v))\n",
    "validation_data.drop(['FailWithin90Days','FailWithin180Days','FailWithin365Days','FailWithin730Days'], axis=1, inplace=True)\n",
    "Y_test = np.column_stack((Y1s, Y2s, Y3s,Y4s))\n",
    "test_data.drop(['FailWithin90Days','FailWithin180Days','FailWithin365Days','FailWithin730Days'], axis=1, inplace=True)\n",
    "nalastdata = np.column_stack((Y1ld, Y2ld, Y3ld,Y4ld))\n",
    "last_data.drop(['FailWithin90Days','FailWithin180Days','FailWithin365Days','FailWithin730Days'], axis=1, inplace=True)"
   ]
  },
  {
   "cell_type": "code",
   "execution_count": 18,
   "id": "72da9bc0",
   "metadata": {
    "execution": {
     "iopub.execute_input": "2023-11-05T21:47:30.742913Z",
     "iopub.status.busy": "2023-11-05T21:47:30.742580Z",
     "iopub.status.idle": "2023-11-05T21:47:31.562129Z",
     "shell.execute_reply": "2023-11-05T21:47:31.561092Z"
    },
    "papermill": {
     "duration": 0.831404,
     "end_time": "2023-11-05T21:47:31.564263",
     "exception": false,
     "start_time": "2023-11-05T21:47:30.732859",
     "status": "completed"
    },
    "tags": []
   },
   "outputs": [
    {
     "name": "stdout",
     "output_type": "stream",
     "text": [
      "879.8381502890173\n",
      "436.0506692160612\n",
      "215.046786389414\n",
      "107.1255912961211\n"
     ]
    }
   ],
   "source": [
    "# Calculate the class weight ratio\n",
    "class_weight_ratio0 = (len(Y_train[:,0]) - sum(Y_train[:,0])) / sum(Y_train[:,0])\n",
    "class_weight_ratio1 = (len(Y_train[:,1]) - sum(Y_train[:,1])) / sum(Y_train[:,1])\n",
    "class_weight_ratio2 = (len(Y_train[:,2]) - sum(Y_train[:,2])) / sum(Y_train[:,2])\n",
    "class_weight_ratio3 = (len(Y_train[:,3]) - sum(Y_train[:,3])) / sum(Y_train[:,3])\n",
    "print(class_weight_ratio0)\n",
    "print(class_weight_ratio1)\n",
    "print(class_weight_ratio2)\n",
    "print(class_weight_ratio3)\n",
    "class_weight_ratios = [class_weight_ratio0,class_weight_ratio1,class_weight_ratio2,class_weight_ratio3]"
   ]
  },
  {
   "cell_type": "markdown",
   "id": "1376c3a8",
   "metadata": {
    "papermill": {
     "duration": 0.009101,
     "end_time": "2023-11-05T21:47:31.583031",
     "exception": false,
     "start_time": "2023-11-05T21:47:31.573930",
     "status": "completed"
    },
    "tags": []
   },
   "source": [
    "# **Data Validation & Transformation**"
   ]
  },
  {
   "cell_type": "code",
   "execution_count": 19,
   "id": "3ca9608e",
   "metadata": {
    "execution": {
     "iopub.execute_input": "2023-11-05T21:47:31.602131Z",
     "iopub.status.busy": "2023-11-05T21:47:31.601823Z",
     "iopub.status.idle": "2023-11-05T21:47:31.605773Z",
     "shell.execute_reply": "2023-11-05T21:47:31.604969Z"
    },
    "papermill": {
     "duration": 0.015875,
     "end_time": "2023-11-05T21:47:31.607829",
     "exception": false,
     "start_time": "2023-11-05T21:47:31.591954",
     "status": "completed"
    },
    "tags": []
   },
   "outputs": [],
   "source": [
    "# train_stats = tfdv.generate_statistics_from_dataframe(train_data)\n",
    "# schema = tfdv.infer_schema(statistics = train_stats)\n",
    "# eval_stats = tfdv.generate_statistics_from_dataframe(validation_data)\n",
    "# test_stats = tfdv.generate_statistics_from_dataframe(test_data)\n",
    "\n",
    "# eval_anomalies =  tfdv.validate_statistics(statistics=eval_stats, schema=schema)\n",
    "# test_anomalies = tfdv.validate_statistics(statistics=test_stats, schema=schema)"
   ]
  },
  {
   "cell_type": "code",
   "execution_count": 20,
   "id": "46da9c00",
   "metadata": {
    "execution": {
     "iopub.execute_input": "2023-11-05T21:47:31.626628Z",
     "iopub.status.busy": "2023-11-05T21:47:31.626343Z",
     "iopub.status.idle": "2023-11-05T21:47:31.630075Z",
     "shell.execute_reply": "2023-11-05T21:47:31.629273Z"
    },
    "papermill": {
     "duration": 0.015294,
     "end_time": "2023-11-05T21:47:31.631888",
     "exception": false,
     "start_time": "2023-11-05T21:47:31.616594",
     "status": "completed"
    },
    "tags": []
   },
   "outputs": [],
   "source": [
    "\n",
    "# tfdv.display_anomalies(eval_anomalies)\n",
    "# print('#####################')\n",
    "# tfdv.display_anomalies(test_anomalies)"
   ]
  },
  {
   "cell_type": "markdown",
   "id": "746927dd",
   "metadata": {
    "papermill": {
     "duration": 0.00903,
     "end_time": "2023-11-05T21:47:31.649787",
     "exception": false,
     "start_time": "2023-11-05T21:47:31.640757",
     "status": "completed"
    },
    "tags": []
   },
   "source": [
    "# **Training**"
   ]
  },
  {
   "cell_type": "code",
   "execution_count": 21,
   "id": "bd001619",
   "metadata": {
    "execution": {
     "iopub.execute_input": "2023-11-05T21:47:31.668764Z",
     "iopub.status.busy": "2023-11-05T21:47:31.668471Z",
     "iopub.status.idle": "2023-11-05T21:49:13.006656Z",
     "shell.execute_reply": "2023-11-05T21:49:13.005734Z"
    },
    "papermill": {
     "duration": 101.350097,
     "end_time": "2023-11-05T21:49:13.008699",
     "exception": false,
     "start_time": "2023-11-05T21:47:31.658602",
     "status": "completed"
    },
    "tags": []
   },
   "outputs": [
    {
     "name": "stdout",
     "output_type": "stream",
     "text": [
      "[21:48:53] WARNING: ../src/learner.cc:767: \n",
      "Parameters: { \"device\" } are not used.\n",
      "\n",
      "[0]\tvalidation_0-logloss:0.43840\tvalidation_1-logloss:0.43794\n",
      "[100]\tvalidation_0-logloss:0.00024\tvalidation_1-logloss:0.00122\n",
      "[200]\tvalidation_0-logloss:0.00023\tvalidation_1-logloss:0.00124\n",
      "[239]\tvalidation_0-logloss:0.00023\tvalidation_1-logloss:0.00124\n"
     ]
    },
    {
     "data": {
      "text/html": [
       "<style>#sk-container-id-1 {color: black;background-color: white;}#sk-container-id-1 pre{padding: 0;}#sk-container-id-1 div.sk-toggleable {background-color: white;}#sk-container-id-1 label.sk-toggleable__label {cursor: pointer;display: block;width: 100%;margin-bottom: 0;padding: 0.3em;box-sizing: border-box;text-align: center;}#sk-container-id-1 label.sk-toggleable__label-arrow:before {content: \"▸\";float: left;margin-right: 0.25em;color: #696969;}#sk-container-id-1 label.sk-toggleable__label-arrow:hover:before {color: black;}#sk-container-id-1 div.sk-estimator:hover label.sk-toggleable__label-arrow:before {color: black;}#sk-container-id-1 div.sk-toggleable__content {max-height: 0;max-width: 0;overflow: hidden;text-align: left;background-color: #f0f8ff;}#sk-container-id-1 div.sk-toggleable__content pre {margin: 0.2em;color: black;border-radius: 0.25em;background-color: #f0f8ff;}#sk-container-id-1 input.sk-toggleable__control:checked~div.sk-toggleable__content {max-height: 200px;max-width: 100%;overflow: auto;}#sk-container-id-1 input.sk-toggleable__control:checked~label.sk-toggleable__label-arrow:before {content: \"▾\";}#sk-container-id-1 div.sk-estimator input.sk-toggleable__control:checked~label.sk-toggleable__label {background-color: #d4ebff;}#sk-container-id-1 div.sk-label input.sk-toggleable__control:checked~label.sk-toggleable__label {background-color: #d4ebff;}#sk-container-id-1 input.sk-hidden--visually {border: 0;clip: rect(1px 1px 1px 1px);clip: rect(1px, 1px, 1px, 1px);height: 1px;margin: -1px;overflow: hidden;padding: 0;position: absolute;width: 1px;}#sk-container-id-1 div.sk-estimator {font-family: monospace;background-color: #f0f8ff;border: 1px dotted black;border-radius: 0.25em;box-sizing: border-box;margin-bottom: 0.5em;}#sk-container-id-1 div.sk-estimator:hover {background-color: #d4ebff;}#sk-container-id-1 div.sk-parallel-item::after {content: \"\";width: 100%;border-bottom: 1px solid gray;flex-grow: 1;}#sk-container-id-1 div.sk-label:hover label.sk-toggleable__label {background-color: #d4ebff;}#sk-container-id-1 div.sk-serial::before {content: \"\";position: absolute;border-left: 1px solid gray;box-sizing: border-box;top: 0;bottom: 0;left: 50%;z-index: 0;}#sk-container-id-1 div.sk-serial {display: flex;flex-direction: column;align-items: center;background-color: white;padding-right: 0.2em;padding-left: 0.2em;position: relative;}#sk-container-id-1 div.sk-item {position: relative;z-index: 1;}#sk-container-id-1 div.sk-parallel {display: flex;align-items: stretch;justify-content: center;background-color: white;position: relative;}#sk-container-id-1 div.sk-item::before, #sk-container-id-1 div.sk-parallel-item::before {content: \"\";position: absolute;border-left: 1px solid gray;box-sizing: border-box;top: 0;bottom: 0;left: 50%;z-index: -1;}#sk-container-id-1 div.sk-parallel-item {display: flex;flex-direction: column;z-index: 1;position: relative;background-color: white;}#sk-container-id-1 div.sk-parallel-item:first-child::after {align-self: flex-end;width: 50%;}#sk-container-id-1 div.sk-parallel-item:last-child::after {align-self: flex-start;width: 50%;}#sk-container-id-1 div.sk-parallel-item:only-child::after {width: 0;}#sk-container-id-1 div.sk-dashed-wrapped {border: 1px dashed gray;margin: 0 0.4em 0.5em 0.4em;box-sizing: border-box;padding-bottom: 0.4em;background-color: white;}#sk-container-id-1 div.sk-label label {font-family: monospace;font-weight: bold;display: inline-block;line-height: 1.2em;}#sk-container-id-1 div.sk-label-container {text-align: center;}#sk-container-id-1 div.sk-container {/* jupyter's `normalize.less` sets `[hidden] { display: none; }` but bootstrap.min.css set `[hidden] { display: none !important; }` so we also need the `!important` here to be able to override the default hidden behavior on the sphinx rendered scikit-learn.org. See: https://github.com/scikit-learn/scikit-learn/issues/21755 */display: inline-block !important;position: relative;}#sk-container-id-1 div.sk-text-repr-fallback {display: none;}</style><div id=\"sk-container-id-1\" class=\"sk-top-container\"><div class=\"sk-text-repr-fallback\"><pre>XGBClassifier(base_score=None, booster=None, callbacks=None,\n",
       "              colsample_bylevel=None, colsample_bynode=None,\n",
       "              colsample_bytree=1.0, device=&#x27;cuda&#x27;, early_stopping_rounds=None,\n",
       "              enable_categorical=False, eta=0.30000000000000004,\n",
       "              eval_metric=None, feature_types=None, gamma=0.8, gpu_id=None,\n",
       "              grow_policy=None, importance_type=None,\n",
       "              interaction_constraints=None, learning_rate=None, max_bin=None,\n",
       "              max_cat_threshold=None, max_cat_to_onehot=None,\n",
       "              max_delta_step=None, max_depth=8, max_leaves=None,\n",
       "              min_child_weight=None, missing=nan, monotone_constraints=None,\n",
       "              multi_strategy=None, n_estimators=240, n_jobs=None, ...)</pre><b>In a Jupyter environment, please rerun this cell to show the HTML representation or trust the notebook. <br />On GitHub, the HTML representation is unable to render, please try loading this page with nbviewer.org.</b></div><div class=\"sk-container\" hidden><div class=\"sk-item\"><div class=\"sk-estimator sk-toggleable\"><input class=\"sk-toggleable__control sk-hidden--visually\" id=\"sk-estimator-id-1\" type=\"checkbox\" checked><label for=\"sk-estimator-id-1\" class=\"sk-toggleable__label sk-toggleable__label-arrow\">XGBClassifier</label><div class=\"sk-toggleable__content\"><pre>XGBClassifier(base_score=None, booster=None, callbacks=None,\n",
       "              colsample_bylevel=None, colsample_bynode=None,\n",
       "              colsample_bytree=1.0, device=&#x27;cuda&#x27;, early_stopping_rounds=None,\n",
       "              enable_categorical=False, eta=0.30000000000000004,\n",
       "              eval_metric=None, feature_types=None, gamma=0.8, gpu_id=None,\n",
       "              grow_policy=None, importance_type=None,\n",
       "              interaction_constraints=None, learning_rate=None, max_bin=None,\n",
       "              max_cat_threshold=None, max_cat_to_onehot=None,\n",
       "              max_delta_step=None, max_depth=8, max_leaves=None,\n",
       "              min_child_weight=None, missing=nan, monotone_constraints=None,\n",
       "              multi_strategy=None, n_estimators=240, n_jobs=None, ...)</pre></div></div></div></div></div>"
      ],
      "text/plain": [
       "XGBClassifier(base_score=None, booster=None, callbacks=None,\n",
       "              colsample_bylevel=None, colsample_bynode=None,\n",
       "              colsample_bytree=1.0, device='cuda', early_stopping_rounds=None,\n",
       "              enable_categorical=False, eta=0.30000000000000004,\n",
       "              eval_metric=None, feature_types=None, gamma=0.8, gpu_id=None,\n",
       "              grow_policy=None, importance_type=None,\n",
       "              interaction_constraints=None, learning_rate=None, max_bin=None,\n",
       "              max_cat_threshold=None, max_cat_to_onehot=None,\n",
       "              max_delta_step=None, max_depth=8, max_leaves=None,\n",
       "              min_child_weight=None, missing=nan, monotone_constraints=None,\n",
       "              multi_strategy=None, n_estimators=240, n_jobs=None, ...)"
      ]
     },
     "execution_count": 21,
     "metadata": {},
     "output_type": "execute_result"
    }
   ],
   "source": [
    "# scale_pos_weight=class_weight_ratios[1]\n",
    "\n",
    "params = {'objective': 'binary:logistic', 'base_score': None, 'booster': None, 'callbacks': None, 'colsample_bylevel': None, 'colsample_bynode': None, 'colsample_bytree': 1.0, 'device': 'cuda', 'early_stopping_rounds': None, 'enable_categorical': False, 'eval_metric': None, 'feature_types': None, 'gamma': 0.8, 'grow_policy': None, 'importance_type': None, 'interaction_constraints': None, 'learning_rate': None, 'max_bin': None, 'max_cat_threshold': None, 'max_cat_to_onehot': None, 'max_delta_step': None, 'max_depth': 8, 'max_leaves': None, 'min_child_weight': None,'monotone_constraints': None, 'multi_strategy': None, 'n_estimators': 240, 'n_jobs': None, 'num_parallel_tree': None, 'random_state': None, 'reg_alpha': None, 'reg_lambda': None, 'sampling_method': None, 'scale_pos_weight': None, 'subsample': 0.8, 'tree_method': 'gpu_hist', 'validate_parameters': None, 'verbosity': None, 'eta': 0.30000000000000004, 'seed': 36}\n",
    "\n",
    "xgb = xg.XGBClassifier(**params)\n",
    "\n",
    "eval_set = [(train_data, Y_train[:,1]), (validation_data, Y_val[:,1])]\n",
    "xgb.fit(train_data, Y_train[:,1],\n",
    "# Fitting the model\n",
    "          eval_set = eval_set,\n",
    "          verbose=100)"
   ]
  },
  {
   "cell_type": "code",
   "execution_count": 22,
   "id": "aa4c6834",
   "metadata": {
    "execution": {
     "iopub.execute_input": "2023-11-05T21:49:13.029294Z",
     "iopub.status.busy": "2023-11-05T21:49:13.029016Z",
     "iopub.status.idle": "2023-11-05T21:49:14.108556Z",
     "shell.execute_reply": "2023-11-05T21:49:14.107586Z"
    },
    "papermill": {
     "duration": 1.092237,
     "end_time": "2023-11-05T21:49:14.110796",
     "exception": false,
     "start_time": "2023-11-05T21:49:13.018559",
     "status": "completed"
    },
    "tags": []
   },
   "outputs": [
    {
     "name": "stdout",
     "output_type": "stream",
     "text": [
      "AUC: 0.73909460899828\n",
      "F1 Score: 0.5866666666666667\n"
     ]
    }
   ],
   "source": [
    "\n",
    "y_pred = xgb.predict_proba(validation_data)\n",
    "\n",
    "# class_0_est_instances = y_pred[:, 0].sum()\n",
    "# class_1_est_instances = y_pred[:, 1].sum()\n",
    "# new_y_pred = y_pred * np.array([[1 / (class_0_est_instances),1 / (class_1_est_instances)]])\n",
    "# new_y_pred_f = new_y_pred / np.sum(new_y_pred, axis=1, keepdims=1)\n",
    "\n",
    "y_pred_binary = [1 if x > 0.5 else 0 for x in y_pred[:,1]]\n",
    "\n",
    "\n",
    "###################################################\n",
    "# threshold = 0.5\n",
    "# y_pred_binary = np.where(y_pred > threshold, 1, 0)\n",
    "\n",
    "# f1_scores = f1_score(Y_val, y_pred_binary, average=None)\n",
    "# auc = roc_auc_score(y_val, y_pred_binary,average=None)  \n",
    "#####################################################\n",
    "\n",
    "f1_scores = f1_score(Y_val[:,1], y_pred_binary)\n",
    "auc = roc_auc_score(Y_val[:,1], y_pred_binary)  \n",
    "print(f'AUC: {auc}')\n",
    "\n",
    "# f1_scores will be an array of F1 scores for each label\n",
    "print(f'F1 Score: {f1_scores}')"
   ]
  },
  {
   "cell_type": "code",
   "execution_count": 23,
   "id": "85293559",
   "metadata": {
    "execution": {
     "iopub.execute_input": "2023-11-05T21:49:14.132376Z",
     "iopub.status.busy": "2023-11-05T21:49:14.132098Z",
     "iopub.status.idle": "2023-11-05T21:49:15.096411Z",
     "shell.execute_reply": "2023-11-05T21:49:15.095399Z"
    },
    "papermill": {
     "duration": 0.977479,
     "end_time": "2023-11-05T21:49:15.098767",
     "exception": false,
     "start_time": "2023-11-05T21:49:14.121288",
     "status": "completed"
    },
    "tags": []
   },
   "outputs": [
    {
     "name": "stdout",
     "output_type": "stream",
     "text": [
      "AUC: 0.6136311986672501\n",
      "F1 Score: 0.35714285714285715\n"
     ]
    }
   ],
   "source": [
    "\n",
    "y_pred = xgb.predict_proba(test_data)\n",
    "# class_0_est_instances = y_pred[:, 0].sum()\n",
    "# class_1_est_instances = y_pred[:, 1].sum()\n",
    "# new_y_pred = y_pred * np.array([[1 / (class_0_est_instances),1 / (class_1_est_instances)]])\n",
    "# new_y_pred_f = new_y_pred / np.sum(new_y_pred, axis=1, keepdims=1)\n",
    "y_pred_binary = [1 if x > 0.5 else 0 for x in y_pred[:,1]]\n",
    "\n",
    "\n",
    "###################################################\n",
    "# threshold = 0.5\n",
    "# y_pred_binary = np.where(y_pred > threshold, 1, 0)\n",
    "\n",
    "# f1_scores = f1_score(Y_val, y_pred_binary, average=None)\n",
    "# auc = roc_auc_score(y_val, y_pred_binary,average=None)  \n",
    "#####################################################\n",
    "\n",
    "f1_scores = f1_score(Y_test[:,1], y_pred_binary)\n",
    "auc = roc_auc_score(Y_test[:,1], y_pred_binary)  \n",
    "print(f'AUC: {auc}')\n",
    "\n",
    "# f1_scores will be an array of F1 scores for each label\n",
    "print(f'F1 Score: {f1_scores}')"
   ]
  },
  {
   "cell_type": "code",
   "execution_count": 24,
   "id": "13532d47",
   "metadata": {
    "execution": {
     "iopub.execute_input": "2023-11-05T21:49:15.120383Z",
     "iopub.status.busy": "2023-11-05T21:49:15.120080Z",
     "iopub.status.idle": "2023-11-05T21:49:16.008017Z",
     "shell.execute_reply": "2023-11-05T21:49:16.007079Z"
    },
    "papermill": {
     "duration": 0.901193,
     "end_time": "2023-11-05T21:49:16.010202",
     "exception": false,
     "start_time": "2023-11-05T21:49:15.109009",
     "status": "completed"
    },
    "tags": []
   },
   "outputs": [
    {
     "data": {
      "image/png": "[encoded data removed]",
      "text/plain": [
       "<Figure size 800x600 with 2 Axes>"
      ]
     },
     "metadata": {},
     "output_type": "display_data"
    },
    {
     "name": "stdout",
     "output_type": "stream",
     "text": [
      "Confusion Matrix:\n",
      "[[96805     1]\n",
      " [   17     5]]\n"
     ]
    }
   ],
   "source": [
    "from sklearn.metrics import confusion_matrix\n",
    "import matplotlib.pyplot as plt\n",
    "import seaborn as sns\n",
    "\n",
    "# Replace these with your actual predictions and true labels\n",
    "\n",
    "\n",
    "\n",
    "# Create a confusion matrix\n",
    "cm = confusion_matrix(Y_test[:,1], y_pred_binary)\n",
    "\n",
    "# Display the confusion matrix as a heatmap\n",
    "plt.figure(figsize=(8, 6))\n",
    "sns.heatmap(cm, annot=True, fmt=\"d\", cmap=\"Blues\", xticklabels=[\"Predicted 0\", \"Predicted 1\"], yticklabels=[\"Actual 0\", \"Actual 1\"])\n",
    "plt.xlabel(\"Predicted\")\n",
    "plt.ylabel(\"Actual\")\n",
    "plt.title(\"Confusion Matrix\")\n",
    "plt.show()\n",
    "\n",
    "print(\"Confusion Matrix:\")\n",
    "print(cm)\n"
   ]
  },
  {
   "cell_type": "code",
   "execution_count": 25,
   "id": "52bd876b",
   "metadata": {
    "execution": {
     "iopub.execute_input": "2023-11-05T21:49:16.032439Z",
     "iopub.status.busy": "2023-11-05T21:49:16.032149Z",
     "iopub.status.idle": "2023-11-05T21:49:16.111704Z",
     "shell.execute_reply": "2023-11-05T21:49:16.110780Z"
    },
    "papermill": {
     "duration": 0.093221,
     "end_time": "2023-11-05T21:49:16.114145",
     "exception": false,
     "start_time": "2023-11-05T21:49:16.020924",
     "status": "completed"
    },
    "tags": []
   },
   "outputs": [
    {
     "name": "stdout",
     "output_type": "stream",
     "text": [
      "                              NAME   CERT  Pred\n",
      "0                 FIRST STATE BANK  19163     0\n",
      "3130               TRI-COUNTY BANK    977     0\n",
      "3146              FIRST STATE BANK   9879     0\n",
      "3145           AMERICAN STATE BANK   9967     0\n",
      "3144               BANK OF DELIGHT     99     0\n",
      "3143       G W JONES EXCHANGE BANK    999     0\n",
      "3142             CAPON VALLEY BANK   9998     0\n",
      "3141       JEFFERSON SECURITY BANK   9997     0\n",
      "3140  FARMERS&MERCHANTS BK CRAIG C   9986     0\n",
      "3139    FIRST STATE BANK OF UVALDE   9978     0\n",
      "3138                      F&M BANK   9963     0\n",
      "3137        SECURITY BANK&TRUST CO   9881     0\n",
      "3136          VALLEY EXCHANGE BANK   9947     0\n",
      "3135              RIVERS EDGE BANK   9935     0\n",
      "3134      COMMERCIAL STB OF WAGNER   9932     0\n",
      "3133        ANDERSON BROTHERS BANK   9923     0\n",
      "3132                 MID PENN BANK   9889     0\n",
      "3147                       BANK360   9875     0\n",
      "3148                 ST HENRY BANK   9871     0\n",
      "3149               BLOOMSDALE BANK   9788     0\n"
     ]
    }
   ],
   "source": [
    "#predicting the next failer since last date: \n",
    "pd.set_option('display.max_rows', None)\n",
    "pd.set_option('display.max_columns', None)\n",
    "\n",
    "y_pred= xgb.predict(last_data)\n",
    "last_data_ids['Pred'] = y_pred\n",
    "sorted_results = last_data_ids.sort_values(by=\"Pred\",ascending=False)\n",
    "print(sorted_results[:20])"
   ]
  },
  {
   "cell_type": "code",
   "execution_count": 26,
   "id": "14d1bda8",
   "metadata": {
    "execution": {
     "iopub.execute_input": "2023-11-05T21:49:16.141350Z",
     "iopub.status.busy": "2023-11-05T21:49:16.141005Z",
     "iopub.status.idle": "2023-11-05T21:49:16.149623Z",
     "shell.execute_reply": "2023-11-05T21:49:16.148618Z"
    },
    "papermill": {
     "duration": 0.024543,
     "end_time": "2023-11-05T21:49:16.151877",
     "exception": false,
     "start_time": "2023-11-05T21:49:16.127334",
     "status": "completed"
    },
    "tags": []
   },
   "outputs": [],
   "source": [
    "# LL -LogLoss (train/val)\n",
    "# US-unscaled\n",
    "# FD-full data\n",
    "# NFE-no feature engineering \n",
    "# UT-untuned\n",
    "# 180-Failed within 180 days (target)\n",
    "# Log- objective binary:logistic\n",
    "# SPW- scale_pos_weight\n",
    "# 300- number of estimators \n",
    "\n",
    "# Data Split is 70 tain 15 Val 15 Test \n",
    "\n",
    "# US_FD_NFE_UT_180_Log_SPW_300 = LL 0.00117-0.00207,Val AUC-0.815 F1-O.522 Precision-0.44, Test AUC-0.636 F1-0.3485 Precision-0.46\n",
    "# ValCM:[[97659    36]\n",
    "#         [   17    29]] \n",
    "# ##############################################################################################\n",
    "# US_FD_NFE_UT_180_Log_300 = LL 0.00022-0.00152,Val AUC-0.695 F1-O.493 Precision-0.66, Test AUC-0.613 F1-0.357 Precision-0.83\n",
    "# ValCM: [[97686     9]\n",
    "#         [   28    18]]\n",
    "# TestCM:\n",
    "#     [[101519      1]\n",
    "#  [    17      5]]\n",
    "# ############################################################################################   \n",
    "# US_FD_NFE_UT_180_Log_200 = LL 0.00136-0.00124,Val AUC-0.717 F1-O.526 Precision-0.66, Test AUC-0.636 F1-0.413 Precision-0.85   \n",
    "# ValCM: [[97685    10]\n",
    "#         [   26    20]]\n",
    "# TestCM [[101519      1]\n",
    "#          [    16      6]]\n",
    "# ########################################################################################\n",
    "         \n",
    "# #Tuning with HPO US_FD_NFE_UT_180_Log\n",
    "# params = {'objective': 'binary:logistic', 'base_score': None, 'booster': None, 'callbacks': None, 'colsample_bylevel': None, 'colsample_bynode': None, 'colsample_bytree': 0.9, 'device': 'cuda', 'early_stopping_rounds': None, 'enable_categorical': False, 'eval_metric': None, 'feature_types': None, 'gamma': 0.0, 'grow_policy': None, 'importance_type': None, 'interaction_constraints': None, 'learning_rate': None, 'max_bin': None, 'max_cat_threshold': None, 'max_cat_to_onehot': None, 'max_delta_step': None, 'max_depth': 9, 'max_leaves': None, 'min_child_weight': None, 'monotone_constraints': None, 'multi_strategy': None, 'n_estimators': 60, 'n_jobs': None, 'num_parallel_tree': None, 'random_state': None, 'reg_alpha': None, 'reg_lambda': None, 'sampling_method': None, 'scale_pos_weight': None, 'subsample': 0.9, 'tree_method': 'hist', 'validate_parameters': None, 'verbosity': None, 'eta': 0.1, 'seed': 74}        \n",
    "#                             LL 0.00097-0.00136,Val AUC-0.728 F1-O.583 Precision-0.80, Test AUC-0.613 F1-0.357 Precision-0.83\n",
    "# ValCM: [[97690     5]\n",
    "#          [   25    21]]\n",
    "# TestCM: [[101519      1]\n",
    "#          [    17      5]]\n",
    "# #############################################################################################\n",
    "# parmas = {'objective': 'binary:logistic', 'base_score': None, 'booster': None, 'callbacks': None, 'colsample_bylevel': None, 'colsample_bynode': None, 'colsample_bytree': 1.0, 'device': 'cuda', 'early_stopping_rounds': None, 'enable_categorical': False, 'eval_metric': None, 'feature_types': None, 'gamma': 0.8, 'grow_policy': None, 'importance_type': None, 'interaction_constraints': None, 'learning_rate': None, 'max_bin': None, 'max_cat_threshold': None, 'max_cat_to_onehot': None, 'max_delta_step': None, 'max_depth': 8, 'max_leaves': None, 'min_child_weight': None, 'missing': nan, 'monotone_constraints': None, 'multi_strategy': None, 'n_estimators': 240, 'n_jobs': None, 'num_parallel_tree': None, 'random_state': None, 'reg_alpha': None, 'reg_lambda': None, 'sampling_method': None, 'scale_pos_weight': None, 'subsample': 0.8, 'tree_method': 'hist', 'validate_parameters': None, 'verbosity': None, 'eta': 0.30000000000000004, 'seed': 36}\n",
    "#                            LL 0.00024-0.00128,Val AUC-0.782 F1-O.658 Precision-0.80, Test AUC-0.636 F1-0.413 Precision-0.83  \n",
    "# ValCM: [[97688     7]\n",
    "#          [   20    26]]\n",
    "# TestCM: [[101519      1]\n",
    "#          [    16      6]]\n",
    "# #########################################################################################\n",
    "# #With Feature engineering  + Tuneing (Lag1)\n",
    "# params = {'objective': 'binary:logistic', 'base_score': None, 'booster': None, 'callbacks': None, 'colsample_bylevel': None, 'colsample_bynode': None, 'colsample_bytree': 1.0, 'device': 'cuda', 'early_stopping_rounds': None, 'enable_categorical': False, 'eval_metric': None, 'feature_types': None, 'gamma': 1.0, 'grow_policy': None, 'importance_type': None, 'interaction_constraints': None, 'learning_rate': None, 'max_bin': None, 'max_cat_threshold': None, 'max_cat_to_onehot': None, 'max_delta_step': None, 'max_depth': 3, 'max_leaves': None, 'min_child_weight': None, 'monotone_constraints': None, 'multi_strategy': None, 'n_estimators': 160, 'n_jobs': None, 'num_parallel_tree': None, 'random_state': None, 'reg_alpha': None, 'reg_lambda': None, 'sampling_method': None, 'scale_pos_weight': None, 'subsample': 0.5, 'tree_method': 'hist', 'validate_parameters': None, 'verbosity': None, 'eta': 0.2, 'seed': 36}\n",
    "#                              LL 0.00145-0.00125,Val AUC-0.771 F1-O.649 Precision-0.80, Test AUC-0.636 F1-0.399 Precision-0.83  \n",
    "# ValCm = [[97689     6]\n",
    "#          [   21    25]]\n",
    "# TestCM = [[101518      2]\n",
    "#          [    16      6]]\n",
    "    \n",
    "         \n",
    "\n",
    "         \n",
    "         \n",
    "         \n",
    "         \n",
    "         \n",
    "         \n",
    "         \n",
    "         \n",
    "         \n",
    "         \n",
    "         \n",
    "         \n",
    "         "
   ]
  },
  {
   "cell_type": "code",
   "execution_count": null,
   "id": "072d59ba",
   "metadata": {
    "papermill": {
     "duration": 0.013205,
     "end_time": "2023-11-05T21:49:16.177260",
     "exception": false,
     "start_time": "2023-11-05T21:49:16.164055",
     "status": "completed"
    },
    "tags": []
   },
   "outputs": [],
   "source": []
  }
 ],
 "metadata": {
  "kernelspec": {
   "display_name": "Python 3",
   "language": "python",
   "name": "python3"
  },
  "language_info": {
   "codemirror_mode": {
    "name": "ipython",
    "version": 3
   },
   "file_extension": ".py",
   "mimetype": "text/x-python",
   "name": "python",
   "nbconvert_exporter": "python",
   "pygments_lexer": "ipython3",
   "version": "3.10.12"
  },
  "papermill": {
   "default_parameters": {},
   "duration": 254.680255,
   "end_time": "2023-11-05T21:49:18.840957",
   "environment_variables": {},
   "exception": null,
   "input_path": "__notebook__.ipynb",
   "output_path": "__notebook__.ipynb",
   "parameters": {},
   "start_time": "2023-11-05T21:45:04.160702",
   "version": "2.4.0"
  }
 },
 "nbformat": 4,
 "nbformat_minor": 5
}
